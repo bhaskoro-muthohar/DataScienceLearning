{
  "nbformat": 4,
  "nbformat_minor": 0,
  "metadata": {
    "colab": {
      "name": "Mencari Bilangan Prima Dengan 3 Pendekatan Menggunakan Python",
      "provenance": []
    },
    "kernelspec": {
      "name": "python3",
      "display_name": "Python 3"
    },
    "accelerator": "GPU"
  },
  "cells": [
    {
      "cell_type": "markdown",
      "metadata": {
        "id": "dJtf-VDy2Yxu",
        "colab_type": "text"
      },
      "source": [
        "Syarat untuk bilangan prima adalah sbb:\n",
        "1. Bilangan harus harus berupa angka positif\n",
        "2. Hanya dapat dibagi dengan 2 angka yaitu: 1 dan dirinya sendiri\n",
        "3. 1 bukan merupakan bilangan prima"
      ]
    },
    {
      "cell_type": "markdown",
      "metadata": {
        "id": "8_GBaL1a2_AF",
        "colab_type": "text"
      },
      "source": [
        "**Pendekatan 1: Menggunakan For Loops**"
      ]
    },
    {
      "cell_type": "code",
      "metadata": {
        "id": "xJLTtYySx5oV",
        "colab_type": "code",
        "colab": {}
      },
      "source": [
        "# Inisialisasi List\n",
        "prima = []\n",
        "\n",
        "for kemungkinanPrima in range (2,102):\n",
        "  \n",
        "  # Asumsikan bilangan adalah Prima sampai dia bukan lagi Prima\n",
        "  adalahPrima = True\n",
        "  for angka in range (2, kemungkinanPrima):\n",
        "    if kemungkinanPrima % angka == 0:\n",
        "      adalahPrima = False\n",
        "\n",
        "  if adalahPrima:\n",
        "    prima.append(kemungkinanPrima)"
      ],
      "execution_count": 0,
      "outputs": []
    },
    {
      "cell_type": "code",
      "metadata": {
        "id": "FDm1o_RpB388",
        "colab_type": "code",
        "colab": {
          "base_uri": "https://localhost:8080/",
          "height": 495
        },
        "outputId": "09b58c7b-ee6f-43cf-f5fd-05c5fc33781d"
      },
      "source": [
        "prima"
      ],
      "execution_count": 9,
      "outputs": [
        {
          "output_type": "execute_result",
          "data": {
            "text/plain": [
              "[2,\n",
              " 3,\n",
              " 5,\n",
              " 7,\n",
              " 11,\n",
              " 13,\n",
              " 17,\n",
              " 19,\n",
              " 23,\n",
              " 29,\n",
              " 31,\n",
              " 37,\n",
              " 41,\n",
              " 43,\n",
              " 47,\n",
              " 53,\n",
              " 59,\n",
              " 61,\n",
              " 67,\n",
              " 71,\n",
              " 73,\n",
              " 79,\n",
              " 83,\n",
              " 89,\n",
              " 97,\n",
              " 101]"
            ]
          },
          "metadata": {
            "tags": []
          },
          "execution_count": 9
        }
      ]
    },
    {
      "cell_type": "markdown",
      "metadata": {
        "id": "gpH7N0ciBbU7",
        "colab_type": "text"
      },
      "source": [
        "**Pendekatan 2: Menggunakan For Loops dengan Break**"
      ]
    },
    {
      "cell_type": "code",
      "metadata": {
        "id": "BGsUkJl_BaDv",
        "colab_type": "code",
        "colab": {}
      },
      "source": [
        "# inisialisasi List\n",
        "prima = []\n",
        "\n",
        "for kemungkinanPrima in range (2,102):\n",
        "  #asumsikan bilangan adalah Prima sampai dia bukan lagi Prima\n",
        "  adalahPrima = True\n",
        "  for angka in range (2, kemungkinanPrima):\n",
        "    if kemungkinanPrima % angka == 0:\n",
        "      adalahPrima = False\n",
        "      break\n",
        "  if adalahPrima:\n",
        "    prima.append(kemungkinanPrima)"
      ],
      "execution_count": 0,
      "outputs": []
    },
    {
      "cell_type": "code",
      "metadata": {
        "id": "z_ttFHFHHWlT",
        "colab_type": "code",
        "colab": {
          "base_uri": "https://localhost:8080/",
          "height": 495
        },
        "outputId": "1fcf6ec0-598d-4142-dd2b-2e1cbd3375ae"
      },
      "source": [
        "prima"
      ],
      "execution_count": 11,
      "outputs": [
        {
          "output_type": "execute_result",
          "data": {
            "text/plain": [
              "[2,\n",
              " 3,\n",
              " 5,\n",
              " 7,\n",
              " 11,\n",
              " 13,\n",
              " 17,\n",
              " 19,\n",
              " 23,\n",
              " 29,\n",
              " 31,\n",
              " 37,\n",
              " 41,\n",
              " 43,\n",
              " 47,\n",
              " 53,\n",
              " 59,\n",
              " 61,\n",
              " 67,\n",
              " 71,\n",
              " 73,\n",
              " 79,\n",
              " 83,\n",
              " 89,\n",
              " 97,\n",
              " 101]"
            ]
          },
          "metadata": {
            "tags": []
          },
          "execution_count": 11
        }
      ]
    },
    {
      "cell_type": "markdown",
      "metadata": {
        "id": "CLdzKZlwCmIk",
        "colab_type": "text"
      },
      "source": [
        "Pendekatan 2 lebih efisien dibandingkan pendekatan 1, karena begitu angka yang diberikan bukan anka Prima maka kita akan keluar dari Loop menggunakan `break`."
      ]
    },
    {
      "cell_type": "code",
      "metadata": {
        "id": "PXsGvnFNClH_",
        "colab_type": "code",
        "colab": {
          "base_uri": "https://localhost:8080/",
          "height": 256
        },
        "outputId": "7a97e5eb-d775-446b-8949-33a60265d39f"
      },
      "source": [
        "#pendekatan 1\n",
        "kemungkinanPrima = 15\n",
        "\n",
        "adalahPrima = True\n",
        "for angka in range (2, kemungkinanPrima):\n",
        "  print(angka)\n",
        "  if kemungkinanPrima % angka == 0:\n",
        "    adalahPrima = False"
      ],
      "execution_count": 26,
      "outputs": [
        {
          "output_type": "stream",
          "text": [
            "2\n",
            "3\n",
            "4\n",
            "5\n",
            "6\n",
            "7\n",
            "8\n",
            "9\n",
            "10\n",
            "11\n",
            "12\n",
            "13\n",
            "14\n"
          ],
          "name": "stdout"
        }
      ]
    },
    {
      "cell_type": "code",
      "metadata": {
        "id": "B6w1itO6DSAS",
        "colab_type": "code",
        "colab": {
          "base_uri": "https://localhost:8080/",
          "height": 54
        },
        "outputId": "0e90a0ca-6dd7-4397-e997-f1e798230eeb"
      },
      "source": [
        "#pendekatan 2\n",
        "kemungkinanPrima = 15\n",
        "\n",
        "adalahPrima = True\n",
        "for angka in range (2, kemungkinanPrima):\n",
        "  print(angka)\n",
        "  if kemungkinanPrima % angka == 0:\n",
        "    adalahPrima = False\n",
        "    break"
      ],
      "execution_count": 27,
      "outputs": [
        {
          "output_type": "stream",
          "text": [
            "2\n",
            "3\n"
          ],
          "name": "stdout"
        }
      ]
    },
    {
      "cell_type": "markdown",
      "metadata": {
        "id": "XqMa0jw2H3B5",
        "colab_type": "text"
      },
      "source": [
        "**Pendekatan 3: Menggunakan For Loop, Break dan Akar kuadrat**"
      ]
    },
    {
      "cell_type": "markdown",
      "metadata": {
        "id": "0_-kHGenIPq7",
        "colab_type": "text"
      },
      "source": [
        "Pendekatan ke 2 diuntungkan karena tidak melakukan iterasi yang tidak penting dalam loop. Pada pendekatan 3 ini dilakukan hal yang mirip selain fungsi inner range nya. Kita menggunakan fungsi inner range: `range(2, int(kemungkinanPrima ** 0.5) + 1)`."
      ]
    },
    {
      "cell_type": "code",
      "metadata": {
        "id": "3rNdynMaHPVv",
        "colab_type": "code",
        "colab": {}
      },
      "source": [
        "#inisialiasi List\n",
        "prima = []\n",
        "for kemungkinanPrima in range (2, 102):\n",
        "\n",
        "  adalahPrima = True\n",
        "  for angka in range(2, int(kemungkinanPrima ** 0.5) + 1):\n",
        "    if kemungkinanPrima % angka == 0:\n",
        "      adalahPrima = False\n",
        "      break\n",
        "  \n",
        "  if adalahPrima:\n",
        "    prima.append(kemungkinanPrima)"
      ],
      "execution_count": 0,
      "outputs": []
    },
    {
      "cell_type": "code",
      "metadata": {
        "id": "q7X9sUd1J4xw",
        "colab_type": "code",
        "colab": {
          "base_uri": "https://localhost:8080/",
          "height": 495
        },
        "outputId": "2e0bbbcb-164b-4105-fb49-37652f4c824f"
      },
      "source": [
        "prima"
      ],
      "execution_count": 34,
      "outputs": [
        {
          "output_type": "execute_result",
          "data": {
            "text/plain": [
              "[2,\n",
              " 3,\n",
              " 5,\n",
              " 7,\n",
              " 11,\n",
              " 13,\n",
              " 17,\n",
              " 19,\n",
              " 23,\n",
              " 29,\n",
              " 31,\n",
              " 37,\n",
              " 41,\n",
              " 43,\n",
              " 47,\n",
              " 53,\n",
              " 59,\n",
              " 61,\n",
              " 67,\n",
              " 71,\n",
              " 73,\n",
              " 79,\n",
              " 83,\n",
              " 89,\n",
              " 97,\n",
              " 101]"
            ]
          },
          "metadata": {
            "tags": []
          },
          "execution_count": 34
        }
      ]
    },
    {
      "cell_type": "markdown",
      "metadata": {
        "id": "yP1ZYvDRQPC_",
        "colab_type": "text"
      },
      "source": [
        "Untuk menjelaskan kenapa pendekatan 3 berhasil dapat membaca artikel ini: http://mathandmultimedia.com/2012/06/02/determining-primes-through-square-root/\n",
        "\n",
        "TL;DR nya adalah:\n",
        "1. Definisi dari *angka komposit* : angka positif lebih dari 1 yang bukan bilangan prima\n",
        "2. Setiap angka komposit mempunyai faktor kurang dari atau sama dengan (equals) terhadap akar kuadratnya.\n",
        "\n",
        "Contoh: Gambar dibawah ini adalah faktor-faktor dari 15, perhatikan faktor yang ada di kotak hijau adalah reverse/kebalikan dari faktor yang ada di kotak kuning. Kita hanya perlu kotak hijau saja untuk melengkapi semua faktor.\n",
        "![alt text](https://miro.medium.com/max/664/1*Po6uaoX0psuHqBTtd0LU7A.png)"
      ]
    },
    {
      "cell_type": "markdown",
      "metadata": {
        "id": "A0ncFFcZbCgq",
        "colab_type": "text"
      },
      "source": [
        "**Perbandingan Waktu untuk Setiap Pendekatan**"
      ]
    },
    {
      "cell_type": "markdown",
      "metadata": {
        "id": "zofDrGPrbHTm",
        "colab_type": "text"
      },
      "source": [
        "Untuk mengetahui pendekatan mana yang lebih efisien kita akan menggunakan library `timeit`. Dalam kasus ini akan dilakukan pencarian bilangan prima sampai 1000 untuk setiap pendekatan dan akan dilakukan running sebanyak 100000 kali dan output nya adalah jumlah waktu yang dibutuhkan untuk menyelasaikan running tersebut dalam detik."
      ]
    },
    {
      "cell_type": "code",
      "metadata": {
        "id": "qYHn4RlUJ5r6",
        "colab_type": "code",
        "colab": {}
      },
      "source": [
        "def pendekatan1(angkaDiberikan):\n",
        "\n",
        "  # Inisialisasi List\n",
        "  prima = []\n",
        "\n",
        "  for kemungkinanPrima in range (2, angkaDiberikan + 1):\n",
        "  \n",
        "    # Asumsikan bilangan adalah Prima sampai dia bukan lagi Prima\n",
        "    adalahPrima = True\n",
        "    for angka in range (2, kemungkinanPrima):\n",
        "      if kemungkinanPrima % angka == 0:\n",
        "        adalahPrima = False\n",
        "\n",
        "    if adalahPrima:\n",
        "      prima.append(kemungkinanPrima)\n",
        "\n",
        "############################################################\n",
        "\n",
        "def pendekatan2(angkaDiberikan):\n",
        "\n",
        "  # Inisialisasi List\n",
        "  prima = []\n",
        "\n",
        "  for kemungkinanPrima in range (2, angkaDiberikan + 1):\n",
        "  \n",
        "    # Asumsikan bilangan adalah Prima sampai dia bukan lagi Prima\n",
        "    adalahPrima = True\n",
        "    for angka in range (2, kemungkinanPrima):\n",
        "      if kemungkinanPrima % angka == 0:\n",
        "        adalahPrima = False\n",
        "        break\n",
        "\n",
        "    if adalahPrima:\n",
        "      prima.append(kemungkinanPrima)\n",
        "\n",
        "############################################################\n",
        "\n",
        "def pendekatan3(angkaDiberikan):\n",
        "\n",
        "  # Inisialisasi List\n",
        "  prima = []\n",
        "\n",
        "  for kemungkinanPrima in range (2, angkaDiberikan + 1):\n",
        "  \n",
        "    # Asumsikan bilangan adalah Prima sampai dia bukan lagi Prima\n",
        "    adalahPrima = True\n",
        "    for angka in range (2, int(kemungkinanPrima ** 0.5) + 1):\n",
        "      if kemungkinanPrima % angka == 0:\n",
        "        adalahPrima = False\n",
        "        break\n",
        "\n",
        "    if adalahPrima:\n",
        "      prima.append(kemungkinanPrima)"
      ],
      "execution_count": 0,
      "outputs": []
    },
    {
      "cell_type": "code",
      "metadata": {
        "id": "nuEzGe9UdEgo",
        "colab_type": "code",
        "colab": {
          "base_uri": "https://localhost:8080/",
          "height": 72
        },
        "outputId": "ce228805-0b18-472c-826a-f8c4d349b53c"
      },
      "source": [
        "import timeit\n",
        "# Approach 1: Execution time \n",
        "print(timeit.timeit('pendekatan1(1000)', globals=globals(), number=10000))\n",
        "# Approach 2: Execution time\n",
        "print(timeit.timeit('pendekatan2(1000)', globals=globals(), number=10000))\n",
        "# Approach 3: Execution time\n",
        "print(timeit.timeit('pendekatan3(1000)', globals=globals(), number=10000))"
      ],
      "execution_count": 7,
      "outputs": [
        {
          "output_type": "stream",
          "text": [
            "273.35738592099995\n",
            "45.12324370600004\n",
            "8.267544151000038\n"
          ],
          "name": "stdout"
        }
      ]
    },
    {
      "cell_type": "markdown",
      "metadata": {
        "id": "eS5nRAu4iYK3",
        "colab_type": "text"
      },
      "source": [
        "**Kesimpulan**"
      ]
    },
    {
      "cell_type": "markdown",
      "metadata": {
        "id": "kBThlPyAicuo",
        "colab_type": "text"
      },
      "source": [
        "Pendekatan ke 3 memakan waktu yang lebih singkat untuk menghitung bilangan prima."
      ]
    }
  ]
}